{
 "cells": [
  {
   "cell_type": "code",
   "execution_count": null,
   "id": "d34ef71a",
   "metadata": {},
   "outputs": [],
   "source": [
    "# Dependencies\n",
    "import pandas as pd"
   ]
  },
  {
   "cell_type": "code",
   "execution_count": null,
   "id": "d6783050",
   "metadata": {},
   "outputs": [],
   "source": [
    "# The path to our CSV files\n",
    "file1 = \"Resources/General_EV_data.csv\"\n",
    "file2 = \"Resources/EV_Performance_data.csv\"\n",
    "\n",
    "# Read our data into pandas\n",
    "general_df = pd.read_csv(file1)\n",
    "df.head()"
   ]
  }
 ],
 "metadata": {
  "kernelspec": {
   "display_name": "Python 3 (ipykernel)",
   "language": "python",
   "name": "python3"
  },
  "language_info": {
   "codemirror_mode": {
    "name": "ipython",
    "version": 3
   },
   "file_extension": ".py",
   "mimetype": "text/x-python",
   "name": "python",
   "nbconvert_exporter": "python",
   "pygments_lexer": "ipython3",
   "version": "3.9.7"
  }
 },
 "nbformat": 4,
 "nbformat_minor": 5
}
